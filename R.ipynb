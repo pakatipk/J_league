{
 "cells": [
  {
   "cell_type": "code",
   "execution_count": 265,
   "metadata": {},
   "outputs": [
    {
     "name": "stderr",
     "output_type": "stream",
     "text": [
      "also installing the dependency ‘BH’\n",
      "\n",
      "Updating HTML index of packages in '.Library'\n",
      "Making 'packages.html' ... done\n"
     ]
    }
   ],
   "source": [
    "install.packages(\"anytime\")"
   ]
  },
  {
   "cell_type": "code",
   "execution_count": 422,
   "metadata": {},
   "outputs": [],
   "source": [
    "library(tidyverse)\n",
    "library(dplyr)\n",
    "library(anytime)"
   ]
  },
  {
   "cell_type": "code",
   "execution_count": 250,
   "metadata": {},
   "outputs": [],
   "source": [
    "file <- read.csv(\"modified_tosu.csv\")"
   ]
  },
  {
   "cell_type": "code",
   "execution_count": 251,
   "metadata": {},
   "outputs": [
    {
     "data": {
      "text/html": [
       "<table>\n",
       "<caption>A data.frame: 6 × 11</caption>\n",
       "<thead>\n",
       "\t<tr><th></th><th scope=col>X</th><th scope=col>year</th><th scope=col>tournaments</th><th scope=col>sec</th><th scope=col>ko</th><th scope=col>dates</th><th scope=col>home</th><th scope=col>score</th><th scope=col>away</th><th scope=col>venue</th><th scope=col>attend</th></tr>\n",
       "\t<tr><th></th><th scope=col>&lt;int&gt;</th><th scope=col>&lt;int&gt;</th><th scope=col>&lt;fct&gt;</th><th scope=col>&lt;fct&gt;</th><th scope=col>&lt;fct&gt;</th><th scope=col>&lt;fct&gt;</th><th scope=col>&lt;fct&gt;</th><th scope=col>&lt;fct&gt;</th><th scope=col>&lt;fct&gt;</th><th scope=col>&lt;fct&gt;</th><th scope=col>&lt;fct&gt;</th></tr>\n",
       "</thead>\n",
       "<tbody>\n",
       "\t<tr><th scope=row>1</th><td>1</td><td>1997</td><td>Nabisco League Cup Group C</td><td>1st Day 1st Sec</td><td>15:00</td><td>3/8/1997 </td><td>Tosu   </td><td>0-0</td><td>Urawa  </td><td>Tosu   </td><td>7021 </td></tr>\n",
       "\t<tr><th scope=row>2</th><td>2</td><td>1997</td><td>Nabisco League Cup Group C</td><td>1st Day 2nd Sec</td><td>15:00</td><td>3/15/1997</td><td>C-Osaka</td><td>2-0</td><td>Tosu   </td><td>Nagai  </td><td>7298 </td></tr>\n",
       "\t<tr><th scope=row>3</th><td>3</td><td>1997</td><td>Nabisco League Cup Group C</td><td>1st Day 3rd Sec</td><td>19:01</td><td>3/19/1997</td><td>Kashima</td><td>5-0</td><td>Tosu   </td><td>Kashima</td><td>9344 </td></tr>\n",
       "\t<tr><th scope=row>4</th><td>4</td><td>1997</td><td>Nabisco League Cup Group C</td><td>1st Day 4th Sec</td><td>15:00</td><td>3/22/1997</td><td>Tosu   </td><td>0-0</td><td>C-Osaka</td><td>Tosu   </td><td>4079 </td></tr>\n",
       "\t<tr><th scope=row>5</th><td>5</td><td>1997</td><td>Nabisco League Cup Group C</td><td>1st Day 5th Sec</td><td>19:01</td><td>3/26/1997</td><td>Tosu   </td><td>1-4</td><td>Kashima</td><td>Tosu   </td><td>5202 </td></tr>\n",
       "\t<tr><th scope=row>6</th><td>6</td><td>1997</td><td>Nabisco League Cup Group C</td><td>1st Day 6th Sec</td><td>15:00</td><td>3/29/1997</td><td>Urawa  </td><td>4-0</td><td>Tosu   </td><td>Komaba </td><td>16987</td></tr>\n",
       "</tbody>\n",
       "</table>\n"
      ],
      "text/latex": [
       "A data.frame: 6 × 11\n",
       "\\begin{tabular}{r|lllllllllll}\n",
       "  & X & year & tournaments & sec & ko & dates & home & score & away & venue & attend\\\\\n",
       "  & <int> & <int> & <fct> & <fct> & <fct> & <fct> & <fct> & <fct> & <fct> & <fct> & <fct>\\\\\n",
       "\\hline\n",
       "\t1 & 1 & 1997 & Nabisco League Cup Group C & 1st Day 1st Sec & 15:00 & 3/8/1997  & Tosu    & 0-0 & Urawa   & Tosu    & 7021 \\\\\n",
       "\t2 & 2 & 1997 & Nabisco League Cup Group C & 1st Day 2nd Sec & 15:00 & 3/15/1997 & C-Osaka & 2-0 & Tosu    & Nagai   & 7298 \\\\\n",
       "\t3 & 3 & 1997 & Nabisco League Cup Group C & 1st Day 3rd Sec & 19:01 & 3/19/1997 & Kashima & 5-0 & Tosu    & Kashima & 9344 \\\\\n",
       "\t4 & 4 & 1997 & Nabisco League Cup Group C & 1st Day 4th Sec & 15:00 & 3/22/1997 & Tosu    & 0-0 & C-Osaka & Tosu    & 4079 \\\\\n",
       "\t5 & 5 & 1997 & Nabisco League Cup Group C & 1st Day 5th Sec & 19:01 & 3/26/1997 & Tosu    & 1-4 & Kashima & Tosu    & 5202 \\\\\n",
       "\t6 & 6 & 1997 & Nabisco League Cup Group C & 1st Day 6th Sec & 15:00 & 3/29/1997 & Urawa   & 4-0 & Tosu    & Komaba  & 16987\\\\\n",
       "\\end{tabular}\n"
      ],
      "text/markdown": [
       "\n",
       "A data.frame: 6 × 11\n",
       "\n",
       "| <!--/--> | X &lt;int&gt; | year &lt;int&gt; | tournaments &lt;fct&gt; | sec &lt;fct&gt; | ko &lt;fct&gt; | dates &lt;fct&gt; | home &lt;fct&gt; | score &lt;fct&gt; | away &lt;fct&gt; | venue &lt;fct&gt; | attend &lt;fct&gt; |\n",
       "|---|---|---|---|---|---|---|---|---|---|---|---|\n",
       "| 1 | 1 | 1997 | Nabisco League Cup Group C | 1st Day 1st Sec | 15:00 | 3/8/1997  | Tosu    | 0-0 | Urawa   | Tosu    | 7021  |\n",
       "| 2 | 2 | 1997 | Nabisco League Cup Group C | 1st Day 2nd Sec | 15:00 | 3/15/1997 | C-Osaka | 2-0 | Tosu    | Nagai   | 7298  |\n",
       "| 3 | 3 | 1997 | Nabisco League Cup Group C | 1st Day 3rd Sec | 19:01 | 3/19/1997 | Kashima | 5-0 | Tosu    | Kashima | 9344  |\n",
       "| 4 | 4 | 1997 | Nabisco League Cup Group C | 1st Day 4th Sec | 15:00 | 3/22/1997 | Tosu    | 0-0 | C-Osaka | Tosu    | 4079  |\n",
       "| 5 | 5 | 1997 | Nabisco League Cup Group C | 1st Day 5th Sec | 19:01 | 3/26/1997 | Tosu    | 1-4 | Kashima | Tosu    | 5202  |\n",
       "| 6 | 6 | 1997 | Nabisco League Cup Group C | 1st Day 6th Sec | 15:00 | 3/29/1997 | Urawa   | 4-0 | Tosu    | Komaba  | 16987 |\n",
       "\n"
      ],
      "text/plain": [
       "  X year tournaments                sec             ko    dates     home   \n",
       "1 1 1997 Nabisco League Cup Group C 1st Day 1st Sec 15:00 3/8/1997  Tosu   \n",
       "2 2 1997 Nabisco League Cup Group C 1st Day 2nd Sec 15:00 3/15/1997 C-Osaka\n",
       "3 3 1997 Nabisco League Cup Group C 1st Day 3rd Sec 19:01 3/19/1997 Kashima\n",
       "4 4 1997 Nabisco League Cup Group C 1st Day 4th Sec 15:00 3/22/1997 Tosu   \n",
       "5 5 1997 Nabisco League Cup Group C 1st Day 5th Sec 19:01 3/26/1997 Tosu   \n",
       "6 6 1997 Nabisco League Cup Group C 1st Day 6th Sec 15:00 3/29/1997 Urawa  \n",
       "  score away    venue   attend\n",
       "1 0-0   Urawa   Tosu    7021  \n",
       "2 2-0   Tosu    Nagai   7298  \n",
       "3 5-0   Tosu    Kashima 9344  \n",
       "4 0-0   C-Osaka Tosu    4079  \n",
       "5 1-4   Kashima Tosu    5202  \n",
       "6 4-0   Tosu    Komaba  16987 "
      ]
     },
     "metadata": {},
     "output_type": "display_data"
    }
   ],
   "source": [
    "head(file)"
   ]
  },
  {
   "cell_type": "code",
   "execution_count": 252,
   "metadata": {},
   "outputs": [
    {
     "data": {
      "text/html": [
       "'data.frame'"
      ],
      "text/latex": [
       "'data.frame'"
      ],
      "text/markdown": [
       "'data.frame'"
      ],
      "text/plain": [
       "[1] \"data.frame\""
      ]
     },
     "metadata": {},
     "output_type": "display_data"
    },
    {
     "data": {
      "text/html": [
       "<style>\n",
       ".list-inline {list-style: none; margin:0; padding: 0}\n",
       ".list-inline>li {display: inline-block}\n",
       ".list-inline>li:not(:last-child)::after {content: \"\\00b7\"; padding: 0 .5ex}\n",
       "</style>\n",
       "<ol class=list-inline><li>'X'</li><li>'year'</li><li>'tournaments'</li><li>'sec'</li><li>'ko'</li><li>'dates'</li><li>'home'</li><li>'score'</li><li>'away'</li><li>'venue'</li><li>'attend'</li></ol>\n"
      ],
      "text/latex": [
       "\\begin{enumerate*}\n",
       "\\item 'X'\n",
       "\\item 'year'\n",
       "\\item 'tournaments'\n",
       "\\item 'sec'\n",
       "\\item 'ko'\n",
       "\\item 'dates'\n",
       "\\item 'home'\n",
       "\\item 'score'\n",
       "\\item 'away'\n",
       "\\item 'venue'\n",
       "\\item 'attend'\n",
       "\\end{enumerate*}\n"
      ],
      "text/markdown": [
       "1. 'X'\n",
       "2. 'year'\n",
       "3. 'tournaments'\n",
       "4. 'sec'\n",
       "5. 'ko'\n",
       "6. 'dates'\n",
       "7. 'home'\n",
       "8. 'score'\n",
       "9. 'away'\n",
       "10. 'venue'\n",
       "11. 'attend'\n",
       "\n",
       "\n"
      ],
      "text/plain": [
       " [1] \"X\"           \"year\"        \"tournaments\" \"sec\"         \"ko\"         \n",
       " [6] \"dates\"       \"home\"        \"score\"       \"away\"        \"venue\"      \n",
       "[11] \"attend\"     "
      ]
     },
     "metadata": {},
     "output_type": "display_data"
    },
    {
     "data": {
      "text/html": [
       "11"
      ],
      "text/latex": [
       "11"
      ],
      "text/markdown": [
       "11"
      ],
      "text/plain": [
       "[1] 11"
      ]
     },
     "metadata": {},
     "output_type": "display_data"
    },
    {
     "data": {
      "text/html": [
       "2892"
      ],
      "text/latex": [
       "2892"
      ],
      "text/markdown": [
       "2892"
      ],
      "text/plain": [
       "[1] 2892"
      ]
     },
     "metadata": {},
     "output_type": "display_data"
    }
   ],
   "source": [
    "class(file)\n",
    "colnames(file)\n",
    "ncol(file)\n",
    "nrow(file)"
   ]
  },
  {
   "cell_type": "code",
   "execution_count": 455,
   "metadata": {},
   "outputs": [
    {
     "name": "stdout",
     "output_type": "stream",
     "text": [
      "'data.frame':\t2892 obs. of  11 variables:\n",
      " $ X          : int  1 2 3 4 5 6 7 8 9 10 ...\n",
      " $ year       : int  1997 1997 1997 1997 1997 1997 1999 1999 1999 1999 ...\n",
      " $ tournaments: Factor w/ 18 levels \"J1\",\"J1 \",\"J1 1st\",..: 14 14 14 14 14 14 5 5 5 5 ...\n",
      " $ sec        : Factor w/ 174 levels \"11th Day\",\"12th Day\",..: 21 34 47 60 64 65 21 99 47 60 ...\n",
      " $ ko         : Factor w/ 71 levels \"\",\"\\n\\t\\t\\t\\t\\t\\t\\t\\t\\t\\t\\t\\t\\t\\t\\n\\t\\t\\t\\t\\t\\t\\t\\t\\t\\t\\t\\t\\t\\t\\t\\t \\n\\t\\t\\t\\t\\t\\t\\t\\t\\t\\t\\t\\t\\t\\t\\t\",..: 29 29 63 29 63 29 9 8 6 9 ...\n",
      " $ dates      : Factor w/ 964 levels \"10/1/2000\",\"10/1/2005\",..: 293 219 234 249 260 269 214 243 265 400 ...\n",
      " $ home       : Factor w/ 86 levels \"\\n\\t\\t\\t\\t\\t\\t\\t\\t\\t\\t\\t\\t\\t\\tC-Osaka\",..: 79 44 55 79 79 82 47 79 72 79 ...\n",
      " $ score      : Factor w/ 65 levels \"\\n\\t\\t\\t\\t\\t\\t\\t\\t\\t\\t\\t\\t\\t\\t0-0\",..: 23 37 54 23 34 49 37 49 40 51 ...\n",
      " $ away       : Factor w/ 86 levels \"\\n\\t\\t\\t\\t\\t\\t\\t\\t\\t\\t\\t\\t\\t\\tC-Osaka\",..: 82 79 79 44 55 79 79 60 79 71 ...\n",
      " $ venue      : Factor w/ 252 levels \"\",\"\\n\\t\\t\\t\\t\\t\\t\\t\\t\\t\\t\\t\\t\\t\\t\",..: 235 182 161 235 235 166 196 235 180 235 ...\n",
      " $ attend     : Factor w/ 917 levels \"\",\"\\n\\t\\t\\t\\t\\t\\t\\t\\t\\t\\t\\t\\t\\t\\t\\n\\t\\t\\t\\t\\t\\t\\t\\t\\t\\t\\t\\t\\t\\t\\t\\t \\n\\t\\t\\t\\t\\t\\t\\t\\t\\t\\t\\t\\t\\t\\t\\t\",..: 795 814 900 584 691 226 537 404 751 416 ...\n"
     ]
    }
   ],
   "source": [
    "str(file)"
   ]
  },
  {
   "cell_type": "code",
   "execution_count": 533,
   "metadata": {},
   "outputs": [
    {
     "name": "stderr",
     "output_type": "stream",
     "text": [
      "Warning message in eval(expr, envir, enclos):\n",
      "“NAs introduced by coercion”Warning message in eval(expr, envir, enclos):\n",
      "“NAs introduced by coercion”"
     ]
    },
    {
     "data": {
      "text/html": [
       "<table>\n",
       "<caption>A data.frame: 6 × 7</caption>\n",
       "<thead>\n",
       "\t<tr><th></th><th scope=col>date</th><th scope=col>ko_time</th><th scope=col>tournaments</th><th scope=col>homes</th><th scope=col>scores_home</th><th scope=col>scores_away</th><th scope=col>aways</th></tr>\n",
       "\t<tr><th></th><th scope=col>&lt;date&gt;</th><th scope=col>&lt;dttm&gt;</th><th scope=col>&lt;fct&gt;</th><th scope=col>&lt;fct&gt;</th><th scope=col>&lt;int&gt;</th><th scope=col>&lt;int&gt;</th><th scope=col>&lt;fct&gt;</th></tr>\n",
       "</thead>\n",
       "<tbody>\n",
       "\t<tr><th scope=row>1</th><td>2019-02-23</td><td>2019-02-23 14:03:00</td><td>J1</td><td>Tosu        </td><td>0</td><td>4</td><td>Nagoya</td></tr>\n",
       "\t<tr><th scope=row>2</th><td>2019-03-02</td><td>2019-03-02 15:03:00</td><td>J1</td><td>Kobe        </td><td>1</td><td>0</td><td>Tosu  </td></tr>\n",
       "\t<tr><th scope=row>3</th><td>2019-03-10</td><td>2019-03-10 14:03:00</td><td>J1</td><td>FC-Tokyo    </td><td>2</td><td>0</td><td>Tosu  </td></tr>\n",
       "\t<tr><th scope=row>4</th><td>2019-03-17</td><td>2019-03-17 13:03:00</td><td>J1</td><td>Tosu        </td><td>1</td><td>0</td><td>Iwata </td></tr>\n",
       "\t<tr><th scope=row>5</th><td>2019-03-29</td><td>2019-03-29 19:33:00</td><td>J1</td><td>Yokohama F･M</td><td>0</td><td>0</td><td>Tosu  </td></tr>\n",
       "\t<tr><th scope=row>6</th><td>2019-04-06</td><td>2019-04-06 14:01:00</td><td>J1</td><td>Sendai      </td><td>3</td><td>0</td><td>Tosu  </td></tr>\n",
       "</tbody>\n",
       "</table>\n"
      ],
      "text/latex": [
       "A data.frame: 6 × 7\n",
       "\\begin{tabular}{r|lllllll}\n",
       "  & date & ko\\_time & tournaments & homes & scores\\_home & scores\\_away & aways\\\\\n",
       "  & <date> & <dttm> & <fct> & <fct> & <int> & <int> & <fct>\\\\\n",
       "\\hline\n",
       "\t1 & 2019-02-23 & 2019-02-23 14:03:00 & J1 & Tosu         & 0 & 4 & Nagoya\\\\\n",
       "\t2 & 2019-03-02 & 2019-03-02 15:03:00 & J1 & Kobe         & 1 & 0 & Tosu  \\\\\n",
       "\t3 & 2019-03-10 & 2019-03-10 14:03:00 & J1 & FC-Tokyo     & 2 & 0 & Tosu  \\\\\n",
       "\t4 & 2019-03-17 & 2019-03-17 13:03:00 & J1 & Tosu         & 1 & 0 & Iwata \\\\\n",
       "\t5 & 2019-03-29 & 2019-03-29 19:33:00 & J1 & Yokohama F･M & 0 & 0 & Tosu  \\\\\n",
       "\t6 & 2019-04-06 & 2019-04-06 14:01:00 & J1 & Sendai       & 3 & 0 & Tosu  \\\\\n",
       "\\end{tabular}\n"
      ],
      "text/markdown": [
       "\n",
       "A data.frame: 6 × 7\n",
       "\n",
       "| <!--/--> | date &lt;date&gt; | ko_time &lt;dttm&gt; | tournaments &lt;fct&gt; | homes &lt;fct&gt; | scores_home &lt;int&gt; | scores_away &lt;int&gt; | aways &lt;fct&gt; |\n",
       "|---|---|---|---|---|---|---|---|\n",
       "| 1 | 2019-02-23 | 2019-02-23 14:03:00 | J1 | Tosu         | 0 | 4 | Nagoya |\n",
       "| 2 | 2019-03-02 | 2019-03-02 15:03:00 | J1 | Kobe         | 1 | 0 | Tosu   |\n",
       "| 3 | 2019-03-10 | 2019-03-10 14:03:00 | J1 | FC-Tokyo     | 2 | 0 | Tosu   |\n",
       "| 4 | 2019-03-17 | 2019-03-17 13:03:00 | J1 | Tosu         | 1 | 0 | Iwata  |\n",
       "| 5 | 2019-03-29 | 2019-03-29 19:33:00 | J1 | Yokohama F･M | 0 | 0 | Tosu   |\n",
       "| 6 | 2019-04-06 | 2019-04-06 14:01:00 | J1 | Sendai       | 3 | 0 | Tosu   |\n",
       "\n"
      ],
      "text/plain": [
       "  date       ko_time             tournaments homes        scores_home\n",
       "1 2019-02-23 2019-02-23 14:03:00 J1          Tosu         0          \n",
       "2 2019-03-02 2019-03-02 15:03:00 J1          Kobe         1          \n",
       "3 2019-03-10 2019-03-10 14:03:00 J1          FC-Tokyo     2          \n",
       "4 2019-03-17 2019-03-17 13:03:00 J1          Tosu         1          \n",
       "5 2019-03-29 2019-03-29 19:33:00 J1          Yokohama F･M 0          \n",
       "6 2019-04-06 2019-04-06 14:01:00 J1          Sendai       3          \n",
       "  scores_away aways \n",
       "1 4           Nagoya\n",
       "2 0           Tosu  \n",
       "3 0           Tosu  \n",
       "4 0           Iwata \n",
       "5 0           Tosu  \n",
       "6 0           Tosu  "
      ]
     },
     "metadata": {},
     "output_type": "display_data"
    }
   ],
   "source": [
    "#index <- file$Tournaments == 'J1' & file$Year >= 2010\n",
    "#file[index,]\n",
    "\n",
    "date <- as.Date(file$dates, \"%m/%d/%Y\")\n",
    "ko_time <- anytime(paste(dates,as.character(file$ko)))\n",
    "x <- as.character(file$attend)\n",
    "attends <- as.numeric(attends)\n",
    "scores_home <- as.integer(substr(as.character(file$score), start = 1, stop = 1))\n",
    "scores_away <- as.integer(substr(as.character(file$score), start = 3, stop = 3))\n",
    "homes <- factor(unlist(lapply(file$home, gsub, pattern = \"\\n\\t\\t\\t\\t\\t\\t\\t\\t\\t\\t\\t\\t\\t\\t\", replacement = \"\", fixed = TRUE)))\n",
    "aways <- factor(unlist(lapply(file$away, gsub, pattern = \"\\n\\t\\t\\t\\t\\t\\t\\t\\t\\t\\t\\t\\t\\t\\t\", replacement = \"\", fixed = TRUE)))\n",
    "\n",
    "\n",
    "dat <- file %>% mutate(date,ko_time,attends, scores_home, scores_away, aways, homes) %>% \n",
    "                filter(year == 2019 & tournaments == 'J1' & !is.na(attends) & !is.na(scores_home)) %>% \n",
    "                select(date, ko_time, tournaments, homes, scores_home, scores_away, aways)\n",
    "\n",
    "head(dat)\n",
    "\n",
    "#dat %>% ggplot() + geom_point(aes(date, attends, col=venue)) + scale_y_continuous(trans=\"log2\")\n"
   ]
  },
  {
   "cell_type": "code",
   "execution_count": 582,
   "metadata": {},
   "outputs": [
    {
     "name": "stdout",
     "output_type": "stream",
     "text": [
      "[1] \"Tosu\"\n",
      " [1] FALSE  TRUE  TRUE  TRUE FALSE  TRUE FALSE  TRUE FALSE  TRUE  TRUE FALSE\n",
      "[13]  TRUE FALSE  TRUE  TRUE  TRUE FALSE FALSE  TRUE FALSE FALSE FALSE FALSE\n",
      "[25]  TRUE  TRUE FALSE  TRUE FALSE FALSE  TRUE FALSE FALSE  TRUE FALSE  TRUE\n",
      "[37]  TRUE  TRUE FALSE  TRUE FALSE  TRUE FALSE  TRUE  TRUE FALSE  TRUE FALSE\n",
      "[49]  TRUE  TRUE  TRUE FALSE FALSE  TRUE FALSE FALSE FALSE FALSE  TRUE  TRUE\n",
      "[61] FALSE  TRUE FALSE FALSE  TRUE FALSE FALSE  TRUE\n",
      "[1] \"Kobe\"\n",
      "[1] \"FC-Tokyo\"\n",
      "[1] \"Tosu\"\n",
      " [1] FALSE  TRUE  TRUE  TRUE FALSE  TRUE FALSE  TRUE FALSE  TRUE  TRUE FALSE\n",
      "[13]  TRUE FALSE  TRUE  TRUE  TRUE FALSE FALSE  TRUE FALSE FALSE FALSE FALSE\n",
      "[25]  TRUE  TRUE FALSE  TRUE FALSE FALSE  TRUE FALSE FALSE  TRUE FALSE  TRUE\n",
      "[37]  TRUE  TRUE FALSE  TRUE FALSE  TRUE FALSE  TRUE  TRUE FALSE  TRUE FALSE\n",
      "[49]  TRUE  TRUE  TRUE FALSE FALSE  TRUE FALSE FALSE FALSE FALSE  TRUE  TRUE\n",
      "[61] FALSE  TRUE FALSE FALSE  TRUE FALSE FALSE  TRUE\n",
      "[1] \"Yokohama F･M\"\n",
      "[1] \"Sendai\"\n",
      "[1] \"Tosu\"\n",
      " [1] FALSE  TRUE  TRUE  TRUE FALSE  TRUE FALSE  TRUE FALSE  TRUE  TRUE FALSE\n",
      "[13]  TRUE FALSE  TRUE  TRUE  TRUE FALSE FALSE  TRUE FALSE FALSE FALSE FALSE\n",
      "[25]  TRUE  TRUE FALSE  TRUE FALSE FALSE  TRUE FALSE FALSE  TRUE FALSE  TRUE\n",
      "[37]  TRUE  TRUE FALSE  TRUE FALSE  TRUE FALSE  TRUE  TRUE FALSE  TRUE FALSE\n",
      "[49]  TRUE  TRUE  TRUE FALSE FALSE  TRUE FALSE FALSE FALSE FALSE  TRUE  TRUE\n",
      "[61] FALSE  TRUE FALSE FALSE  TRUE FALSE FALSE  TRUE\n",
      "[1] \"Matsumoto\"\n",
      "[1] \"Tosu\"\n",
      " [1] FALSE  TRUE  TRUE  TRUE FALSE  TRUE FALSE  TRUE FALSE  TRUE  TRUE FALSE\n",
      "[13]  TRUE FALSE  TRUE  TRUE  TRUE FALSE FALSE  TRUE FALSE FALSE FALSE FALSE\n",
      "[25]  TRUE  TRUE FALSE  TRUE FALSE FALSE  TRUE FALSE FALSE  TRUE FALSE  TRUE\n",
      "[37]  TRUE  TRUE FALSE  TRUE FALSE  TRUE FALSE  TRUE  TRUE FALSE  TRUE FALSE\n",
      "[49]  TRUE  TRUE  TRUE FALSE FALSE  TRUE FALSE FALSE FALSE FALSE  TRUE  TRUE\n",
      "[61] FALSE  TRUE FALSE FALSE  TRUE FALSE FALSE  TRUE\n",
      "[1] \"Oita\"\n",
      "[1] \"Tosu\"\n",
      " [1] FALSE  TRUE  TRUE  TRUE FALSE  TRUE FALSE  TRUE FALSE  TRUE  TRUE FALSE\n",
      "[13]  TRUE FALSE  TRUE  TRUE  TRUE FALSE FALSE  TRUE FALSE FALSE FALSE FALSE\n",
      "[25]  TRUE  TRUE FALSE  TRUE FALSE FALSE  TRUE FALSE FALSE  TRUE FALSE  TRUE\n",
      "[37]  TRUE  TRUE FALSE  TRUE FALSE  TRUE FALSE  TRUE  TRUE FALSE  TRUE FALSE\n",
      "[49]  TRUE  TRUE  TRUE FALSE FALSE  TRUE FALSE FALSE FALSE FALSE  TRUE  TRUE\n",
      "[61] FALSE  TRUE FALSE FALSE  TRUE FALSE FALSE  TRUE\n",
      "[1] \"Hiroshima\"\n",
      "[1] \"Tosu\"\n",
      " [1] FALSE  TRUE  TRUE  TRUE FALSE  TRUE FALSE  TRUE FALSE  TRUE  TRUE FALSE\n",
      "[13]  TRUE FALSE  TRUE  TRUE  TRUE FALSE FALSE  TRUE FALSE FALSE FALSE FALSE\n",
      "[25]  TRUE  TRUE FALSE  TRUE FALSE FALSE  TRUE FALSE FALSE  TRUE FALSE  TRUE\n",
      "[37]  TRUE  TRUE FALSE  TRUE FALSE  TRUE FALSE  TRUE  TRUE FALSE  TRUE FALSE\n",
      "[49]  TRUE  TRUE  TRUE FALSE FALSE  TRUE FALSE FALSE FALSE FALSE  TRUE  TRUE\n",
      "[61] FALSE  TRUE FALSE FALSE  TRUE FALSE FALSE  TRUE\n",
      "[1] \"Tosu\"\n",
      " [1] FALSE  TRUE  TRUE  TRUE FALSE  TRUE FALSE  TRUE FALSE  TRUE  TRUE FALSE\n",
      "[13]  TRUE FALSE  TRUE  TRUE  TRUE FALSE FALSE  TRUE FALSE FALSE FALSE FALSE\n",
      "[25]  TRUE  TRUE FALSE  TRUE FALSE FALSE  TRUE FALSE FALSE  TRUE FALSE  TRUE\n",
      "[37]  TRUE  TRUE FALSE  TRUE FALSE  TRUE FALSE  TRUE  TRUE FALSE  TRUE FALSE\n",
      "[49]  TRUE  TRUE  TRUE FALSE FALSE  TRUE FALSE FALSE FALSE FALSE  TRUE  TRUE\n",
      "[61] FALSE  TRUE FALSE FALSE  TRUE FALSE FALSE  TRUE\n",
      "[1] \"Urawa\"\n",
      "[1] \"Sapporo\"\n",
      "[1] \"Tosu\"\n",
      " [1] FALSE  TRUE  TRUE  TRUE FALSE  TRUE FALSE  TRUE FALSE  TRUE  TRUE FALSE\n",
      "[13]  TRUE FALSE  TRUE  TRUE  TRUE FALSE FALSE  TRUE FALSE FALSE FALSE FALSE\n",
      "[25]  TRUE  TRUE FALSE  TRUE FALSE FALSE  TRUE FALSE FALSE  TRUE FALSE  TRUE\n",
      "[37]  TRUE  TRUE FALSE  TRUE FALSE  TRUE FALSE  TRUE  TRUE FALSE  TRUE FALSE\n",
      "[49]  TRUE  TRUE  TRUE FALSE FALSE  TRUE FALSE FALSE FALSE FALSE  TRUE  TRUE\n",
      "[61] FALSE  TRUE FALSE FALSE  TRUE FALSE FALSE  TRUE\n",
      "[1] \"Kawasaki-F\"\n",
      "[1] \"Tosu\"\n",
      " [1] FALSE  TRUE  TRUE  TRUE FALSE  TRUE FALSE  TRUE FALSE  TRUE  TRUE FALSE\n",
      "[13]  TRUE FALSE  TRUE  TRUE  TRUE FALSE FALSE  TRUE FALSE FALSE FALSE FALSE\n",
      "[25]  TRUE  TRUE FALSE  TRUE FALSE FALSE  TRUE FALSE FALSE  TRUE FALSE  TRUE\n",
      "[37]  TRUE  TRUE FALSE  TRUE FALSE  TRUE FALSE  TRUE  TRUE FALSE  TRUE FALSE\n",
      "[49]  TRUE  TRUE  TRUE FALSE FALSE  TRUE FALSE FALSE FALSE FALSE  TRUE  TRUE\n",
      "[61] FALSE  TRUE FALSE FALSE  TRUE FALSE FALSE  TRUE\n",
      "[1] \"Kashima\"\n",
      "[1] \"Tosu\"\n",
      " [1] FALSE  TRUE  TRUE  TRUE FALSE  TRUE FALSE  TRUE FALSE  TRUE  TRUE FALSE\n",
      "[13]  TRUE FALSE  TRUE  TRUE  TRUE FALSE FALSE  TRUE FALSE FALSE FALSE FALSE\n",
      "[25]  TRUE  TRUE FALSE  TRUE FALSE FALSE  TRUE FALSE FALSE  TRUE FALSE  TRUE\n",
      "[37]  TRUE  TRUE FALSE  TRUE FALSE  TRUE FALSE  TRUE  TRUE FALSE  TRUE FALSE\n",
      "[49]  TRUE  TRUE  TRUE FALSE FALSE  TRUE FALSE FALSE FALSE FALSE  TRUE  TRUE\n",
      "[61] FALSE  TRUE FALSE FALSE  TRUE FALSE FALSE  TRUE\n",
      "[1] \"C-Osaka\"\n",
      "[1] \"Shonan\"\n",
      "[1] \"Tosu\"\n",
      " [1] FALSE  TRUE  TRUE  TRUE FALSE  TRUE FALSE  TRUE FALSE  TRUE  TRUE FALSE\n",
      "[13]  TRUE FALSE  TRUE  TRUE  TRUE FALSE FALSE  TRUE FALSE FALSE FALSE FALSE\n",
      "[25]  TRUE  TRUE FALSE  TRUE FALSE FALSE  TRUE FALSE FALSE  TRUE FALSE  TRUE\n",
      "[37]  TRUE  TRUE FALSE  TRUE FALSE  TRUE FALSE  TRUE  TRUE FALSE  TRUE FALSE\n",
      "[49]  TRUE  TRUE  TRUE FALSE FALSE  TRUE FALSE FALSE FALSE FALSE  TRUE  TRUE\n",
      "[61] FALSE  TRUE FALSE FALSE  TRUE FALSE FALSE  TRUE\n",
      "[1] \"Tosu\"\n",
      " [1] FALSE  TRUE  TRUE  TRUE FALSE  TRUE FALSE  TRUE FALSE  TRUE  TRUE FALSE\n",
      "[13]  TRUE FALSE  TRUE  TRUE  TRUE FALSE FALSE  TRUE FALSE FALSE FALSE FALSE\n",
      "[25]  TRUE  TRUE FALSE  TRUE FALSE FALSE  TRUE FALSE FALSE  TRUE FALSE  TRUE\n",
      "[37]  TRUE  TRUE FALSE  TRUE FALSE  TRUE FALSE  TRUE  TRUE FALSE  TRUE FALSE\n",
      "[49]  TRUE  TRUE  TRUE FALSE FALSE  TRUE FALSE FALSE FALSE FALSE  TRUE  TRUE\n",
      "[61] FALSE  TRUE FALSE FALSE  TRUE FALSE FALSE  TRUE\n",
      "[1] \"G-Osaka\"\n",
      "[1] \"Tosu\"\n",
      " [1] FALSE  TRUE  TRUE  TRUE FALSE  TRUE FALSE  TRUE FALSE  TRUE  TRUE FALSE\n",
      "[13]  TRUE FALSE  TRUE  TRUE  TRUE FALSE FALSE  TRUE FALSE FALSE FALSE FALSE\n",
      "[25]  TRUE  TRUE FALSE  TRUE FALSE FALSE  TRUE FALSE FALSE  TRUE FALSE  TRUE\n",
      "[37]  TRUE  TRUE FALSE  TRUE FALSE  TRUE FALSE  TRUE  TRUE FALSE  TRUE FALSE\n",
      "[49]  TRUE  TRUE  TRUE FALSE FALSE  TRUE FALSE FALSE FALSE FALSE  TRUE  TRUE\n",
      "[61] FALSE  TRUE FALSE FALSE  TRUE FALSE FALSE  TRUE\n",
      "[1] \"Tosu\"\n",
      " [1] FALSE  TRUE  TRUE  TRUE FALSE  TRUE FALSE  TRUE FALSE  TRUE  TRUE FALSE\n",
      "[13]  TRUE FALSE  TRUE  TRUE  TRUE FALSE FALSE  TRUE FALSE FALSE FALSE FALSE\n",
      "[25]  TRUE  TRUE FALSE  TRUE FALSE FALSE  TRUE FALSE FALSE  TRUE FALSE  TRUE\n",
      "[37]  TRUE  TRUE FALSE  TRUE FALSE  TRUE FALSE  TRUE  TRUE FALSE  TRUE FALSE\n",
      "[49]  TRUE  TRUE  TRUE FALSE FALSE  TRUE FALSE FALSE FALSE FALSE  TRUE  TRUE\n",
      "[61] FALSE  TRUE FALSE FALSE  TRUE FALSE FALSE  TRUE\n",
      "[1] \"Iwata\"\n",
      "[1] \"Tosu\"\n",
      " [1] FALSE  TRUE  TRUE  TRUE FALSE  TRUE FALSE  TRUE FALSE  TRUE  TRUE FALSE\n",
      "[13]  TRUE FALSE  TRUE  TRUE  TRUE FALSE FALSE  TRUE FALSE FALSE FALSE FALSE\n",
      "[25]  TRUE  TRUE FALSE  TRUE FALSE FALSE  TRUE FALSE FALSE  TRUE FALSE  TRUE\n",
      "[37]  TRUE  TRUE FALSE  TRUE FALSE  TRUE FALSE  TRUE  TRUE FALSE  TRUE FALSE\n",
      "[49]  TRUE  TRUE  TRUE FALSE FALSE  TRUE FALSE FALSE FALSE FALSE  TRUE  TRUE\n",
      "[61] FALSE  TRUE FALSE FALSE  TRUE FALSE FALSE  TRUE\n",
      "[1] \"Tosu\"\n",
      " [1] FALSE  TRUE  TRUE  TRUE FALSE  TRUE FALSE  TRUE FALSE  TRUE  TRUE FALSE\n",
      "[13]  TRUE FALSE  TRUE  TRUE  TRUE FALSE FALSE  TRUE FALSE FALSE FALSE FALSE\n",
      "[25]  TRUE  TRUE FALSE  TRUE FALSE FALSE  TRUE FALSE FALSE  TRUE FALSE  TRUE\n",
      "[37]  TRUE  TRUE FALSE  TRUE FALSE  TRUE FALSE  TRUE  TRUE FALSE  TRUE FALSE\n",
      "[49]  TRUE  TRUE  TRUE FALSE FALSE  TRUE FALSE FALSE FALSE FALSE  TRUE  TRUE\n",
      "[61] FALSE  TRUE FALSE FALSE  TRUE FALSE FALSE  TRUE\n",
      "[1] \"Nagoya\"\n",
      "[1] \"Tosu\"\n",
      " [1] FALSE  TRUE  TRUE  TRUE FALSE  TRUE FALSE  TRUE FALSE  TRUE  TRUE FALSE\n",
      "[13]  TRUE FALSE  TRUE  TRUE  TRUE FALSE FALSE  TRUE FALSE FALSE FALSE FALSE\n",
      "[25]  TRUE  TRUE FALSE  TRUE FALSE FALSE  TRUE FALSE FALSE  TRUE FALSE  TRUE\n",
      "[37]  TRUE  TRUE FALSE  TRUE FALSE  TRUE FALSE  TRUE  TRUE FALSE  TRUE FALSE\n",
      "[49]  TRUE  TRUE  TRUE FALSE FALSE  TRUE FALSE FALSE FALSE FALSE  TRUE  TRUE\n",
      "[61] FALSE  TRUE FALSE FALSE  TRUE FALSE FALSE  TRUE\n",
      "[1] \"Shimizu\"\n",
      "[1] \"Tosu\"\n",
      " [1] FALSE  TRUE  TRUE  TRUE FALSE  TRUE FALSE  TRUE FALSE  TRUE  TRUE FALSE\n",
      "[13]  TRUE FALSE  TRUE  TRUE  TRUE FALSE FALSE  TRUE FALSE FALSE FALSE FALSE\n",
      "[25]  TRUE  TRUE FALSE  TRUE FALSE FALSE  TRUE FALSE FALSE  TRUE FALSE  TRUE\n",
      "[37]  TRUE  TRUE FALSE  TRUE FALSE  TRUE FALSE  TRUE  TRUE FALSE  TRUE FALSE\n",
      "[49]  TRUE  TRUE  TRUE FALSE FALSE  TRUE FALSE FALSE FALSE FALSE  TRUE  TRUE\n",
      "[61] FALSE  TRUE FALSE FALSE  TRUE FALSE FALSE  TRUE\n",
      "[1] \"Kobe\"\n",
      "[1] \"FC-Tokyo\"\n",
      "[1] \"Tosu\"\n",
      " [1] FALSE  TRUE  TRUE  TRUE FALSE  TRUE FALSE  TRUE FALSE  TRUE  TRUE FALSE\n",
      "[13]  TRUE FALSE  TRUE  TRUE  TRUE FALSE FALSE  TRUE FALSE FALSE FALSE FALSE\n",
      "[25]  TRUE  TRUE FALSE  TRUE FALSE FALSE  TRUE FALSE FALSE  TRUE FALSE  TRUE\n",
      "[37]  TRUE  TRUE FALSE  TRUE FALSE  TRUE FALSE  TRUE  TRUE FALSE  TRUE FALSE\n",
      "[49]  TRUE  TRUE  TRUE FALSE FALSE  TRUE FALSE FALSE FALSE FALSE  TRUE  TRUE\n",
      "[61] FALSE  TRUE FALSE FALSE  TRUE FALSE FALSE  TRUE\n",
      "[1] \"Yokohama F･M\"\n",
      "[1] \"Sendai\"\n",
      "[1] \"Tosu\"\n",
      " [1] FALSE  TRUE  TRUE  TRUE FALSE  TRUE FALSE  TRUE FALSE  TRUE  TRUE FALSE\n",
      "[13]  TRUE FALSE  TRUE  TRUE  TRUE FALSE FALSE  TRUE FALSE FALSE FALSE FALSE\n",
      "[25]  TRUE  TRUE FALSE  TRUE FALSE FALSE  TRUE FALSE FALSE  TRUE FALSE  TRUE\n",
      "[37]  TRUE  TRUE FALSE  TRUE FALSE  TRUE FALSE  TRUE  TRUE FALSE  TRUE FALSE\n",
      "[49]  TRUE  TRUE  TRUE FALSE FALSE  TRUE FALSE FALSE FALSE FALSE  TRUE  TRUE\n",
      "[61] FALSE  TRUE FALSE FALSE  TRUE FALSE FALSE  TRUE\n",
      "[1] \"Matsumoto\"\n",
      "[1] \"Tosu\"\n",
      " [1] FALSE  TRUE  TRUE  TRUE FALSE  TRUE FALSE  TRUE FALSE  TRUE  TRUE FALSE\n",
      "[13]  TRUE FALSE  TRUE  TRUE  TRUE FALSE FALSE  TRUE FALSE FALSE FALSE FALSE\n",
      "[25]  TRUE  TRUE FALSE  TRUE FALSE FALSE  TRUE FALSE FALSE  TRUE FALSE  TRUE\n",
      "[37]  TRUE  TRUE FALSE  TRUE FALSE  TRUE FALSE  TRUE  TRUE FALSE  TRUE FALSE\n",
      "[49]  TRUE  TRUE  TRUE FALSE FALSE  TRUE FALSE FALSE FALSE FALSE  TRUE  TRUE\n",
      "[61] FALSE  TRUE FALSE FALSE  TRUE FALSE FALSE  TRUE\n",
      "[1] \"Oita\"\n",
      "[1] \"Tosu\"\n",
      " [1] FALSE  TRUE  TRUE  TRUE FALSE  TRUE FALSE  TRUE FALSE  TRUE  TRUE FALSE\n",
      "[13]  TRUE FALSE  TRUE  TRUE  TRUE FALSE FALSE  TRUE FALSE FALSE FALSE FALSE\n",
      "[25]  TRUE  TRUE FALSE  TRUE FALSE FALSE  TRUE FALSE FALSE  TRUE FALSE  TRUE\n",
      "[37]  TRUE  TRUE FALSE  TRUE FALSE  TRUE FALSE  TRUE  TRUE FALSE  TRUE FALSE\n",
      "[49]  TRUE  TRUE  TRUE FALSE FALSE  TRUE FALSE FALSE FALSE FALSE  TRUE  TRUE\n",
      "[61] FALSE  TRUE FALSE FALSE  TRUE FALSE FALSE  TRUE\n",
      "[1] \"Hiroshima\"\n",
      "[1] \"Tosu\"\n",
      " [1] FALSE  TRUE  TRUE  TRUE FALSE  TRUE FALSE  TRUE FALSE  TRUE  TRUE FALSE\n",
      "[13]  TRUE FALSE  TRUE  TRUE  TRUE FALSE FALSE  TRUE FALSE FALSE FALSE FALSE\n",
      "[25]  TRUE  TRUE FALSE  TRUE FALSE FALSE  TRUE FALSE FALSE  TRUE FALSE  TRUE\n",
      "[37]  TRUE  TRUE FALSE  TRUE FALSE  TRUE FALSE  TRUE  TRUE FALSE  TRUE FALSE\n",
      "[49]  TRUE  TRUE  TRUE FALSE FALSE  TRUE FALSE FALSE FALSE FALSE  TRUE  TRUE\n",
      "[61] FALSE  TRUE FALSE FALSE  TRUE FALSE FALSE  TRUE\n",
      "[1] \"Tosu\"\n",
      " [1] FALSE  TRUE  TRUE  TRUE FALSE  TRUE FALSE  TRUE FALSE  TRUE  TRUE FALSE\n",
      "[13]  TRUE FALSE  TRUE  TRUE  TRUE FALSE FALSE  TRUE FALSE FALSE FALSE FALSE\n",
      "[25]  TRUE  TRUE FALSE  TRUE FALSE FALSE  TRUE FALSE FALSE  TRUE FALSE  TRUE\n",
      "[37]  TRUE  TRUE FALSE  TRUE FALSE  TRUE FALSE  TRUE  TRUE FALSE  TRUE FALSE\n",
      "[49]  TRUE  TRUE  TRUE FALSE FALSE  TRUE FALSE FALSE FALSE FALSE  TRUE  TRUE\n",
      "[61] FALSE  TRUE FALSE FALSE  TRUE FALSE FALSE  TRUE\n",
      "[1] \"Urawa\"\n",
      "[1] \"Sapporo\"\n",
      "[1] \"Tosu\"\n",
      " [1] FALSE  TRUE  TRUE  TRUE FALSE  TRUE FALSE  TRUE FALSE  TRUE  TRUE FALSE\n",
      "[13]  TRUE FALSE  TRUE  TRUE  TRUE FALSE FALSE  TRUE FALSE FALSE FALSE FALSE\n",
      "[25]  TRUE  TRUE FALSE  TRUE FALSE FALSE  TRUE FALSE FALSE  TRUE FALSE  TRUE\n",
      "[37]  TRUE  TRUE FALSE  TRUE FALSE  TRUE FALSE  TRUE  TRUE FALSE  TRUE FALSE\n",
      "[49]  TRUE  TRUE  TRUE FALSE FALSE  TRUE FALSE FALSE FALSE FALSE  TRUE  TRUE\n",
      "[61] FALSE  TRUE FALSE FALSE  TRUE FALSE FALSE  TRUE\n",
      "[1] \"Kawasaki-F\"\n",
      "[1] \"Tosu\"\n",
      " [1] FALSE  TRUE  TRUE  TRUE FALSE  TRUE FALSE  TRUE FALSE  TRUE  TRUE FALSE\n",
      "[13]  TRUE FALSE  TRUE  TRUE  TRUE FALSE FALSE  TRUE FALSE FALSE FALSE FALSE\n",
      "[25]  TRUE  TRUE FALSE  TRUE FALSE FALSE  TRUE FALSE FALSE  TRUE FALSE  TRUE\n",
      "[37]  TRUE  TRUE FALSE  TRUE FALSE  TRUE FALSE  TRUE  TRUE FALSE  TRUE FALSE\n",
      "[49]  TRUE  TRUE  TRUE FALSE FALSE  TRUE FALSE FALSE FALSE FALSE  TRUE  TRUE\n",
      "[61] FALSE  TRUE FALSE FALSE  TRUE FALSE FALSE  TRUE\n",
      "[1] \"Kashima\"\n",
      "[1] \"Tosu\"\n",
      " [1] FALSE  TRUE  TRUE  TRUE FALSE  TRUE FALSE  TRUE FALSE  TRUE  TRUE FALSE\n",
      "[13]  TRUE FALSE  TRUE  TRUE  TRUE FALSE FALSE  TRUE FALSE FALSE FALSE FALSE\n",
      "[25]  TRUE  TRUE FALSE  TRUE FALSE FALSE  TRUE FALSE FALSE  TRUE FALSE  TRUE\n",
      "[37]  TRUE  TRUE FALSE  TRUE FALSE  TRUE FALSE  TRUE  TRUE FALSE  TRUE FALSE\n",
      "[49]  TRUE  TRUE  TRUE FALSE FALSE  TRUE FALSE FALSE FALSE FALSE  TRUE  TRUE\n",
      "[61] FALSE  TRUE FALSE FALSE  TRUE FALSE FALSE  TRUE\n",
      "[1] \"C-Osaka\"\n",
      "[1] \"Shonan\"\n",
      "[1] \"Tosu\"\n",
      " [1] FALSE  TRUE  TRUE  TRUE FALSE  TRUE FALSE  TRUE FALSE  TRUE  TRUE FALSE\n",
      "[13]  TRUE FALSE  TRUE  TRUE  TRUE FALSE FALSE  TRUE FALSE FALSE FALSE FALSE\n",
      "[25]  TRUE  TRUE FALSE  TRUE FALSE FALSE  TRUE FALSE FALSE  TRUE FALSE  TRUE\n",
      "[37]  TRUE  TRUE FALSE  TRUE FALSE  TRUE FALSE  TRUE  TRUE FALSE  TRUE FALSE\n",
      "[49]  TRUE  TRUE  TRUE FALSE FALSE  TRUE FALSE FALSE FALSE FALSE  TRUE  TRUE\n",
      "[61] FALSE  TRUE FALSE FALSE  TRUE FALSE FALSE  TRUE\n",
      "[1] \"Tosu\"\n",
      " [1] FALSE  TRUE  TRUE  TRUE FALSE  TRUE FALSE  TRUE FALSE  TRUE  TRUE FALSE\n",
      "[13]  TRUE FALSE  TRUE  TRUE  TRUE FALSE FALSE  TRUE FALSE FALSE FALSE FALSE\n",
      "[25]  TRUE  TRUE FALSE  TRUE FALSE FALSE  TRUE FALSE FALSE  TRUE FALSE  TRUE\n",
      "[37]  TRUE  TRUE FALSE  TRUE FALSE  TRUE FALSE  TRUE  TRUE FALSE  TRUE FALSE\n",
      "[49]  TRUE  TRUE  TRUE FALSE FALSE  TRUE FALSE FALSE FALSE FALSE  TRUE  TRUE\n",
      "[61] FALSE  TRUE FALSE FALSE  TRUE FALSE FALSE  TRUE\n",
      "[1] \"G-Osaka\"\n",
      "[1] \"Tosu\"\n",
      " [1] FALSE  TRUE  TRUE  TRUE FALSE  TRUE FALSE  TRUE FALSE  TRUE  TRUE FALSE\n",
      "[13]  TRUE FALSE  TRUE  TRUE  TRUE FALSE FALSE  TRUE FALSE FALSE FALSE FALSE\n",
      "[25]  TRUE  TRUE FALSE  TRUE FALSE FALSE  TRUE FALSE FALSE  TRUE FALSE  TRUE\n",
      "[37]  TRUE  TRUE FALSE  TRUE FALSE  TRUE FALSE  TRUE  TRUE FALSE  TRUE FALSE\n",
      "[49]  TRUE  TRUE  TRUE FALSE FALSE  TRUE FALSE FALSE FALSE FALSE  TRUE  TRUE\n",
      "[61] FALSE  TRUE FALSE FALSE  TRUE FALSE FALSE  TRUE\n",
      "[1] \"Tosu\"\n",
      " [1] FALSE  TRUE  TRUE  TRUE FALSE  TRUE FALSE  TRUE FALSE  TRUE  TRUE FALSE\n",
      "[13]  TRUE FALSE  TRUE  TRUE  TRUE FALSE FALSE  TRUE FALSE FALSE FALSE FALSE\n",
      "[25]  TRUE  TRUE FALSE  TRUE FALSE FALSE  TRUE FALSE FALSE  TRUE FALSE  TRUE\n",
      "[37]  TRUE  TRUE FALSE  TRUE FALSE  TRUE FALSE  TRUE  TRUE FALSE  TRUE FALSE\n",
      "[49]  TRUE  TRUE  TRUE FALSE FALSE  TRUE FALSE FALSE FALSE FALSE  TRUE  TRUE\n",
      "[61] FALSE  TRUE FALSE FALSE  TRUE FALSE FALSE  TRUE\n",
      "[1] \"Iwata\"\n",
      "[1] \"Tosu\"\n",
      " [1] FALSE  TRUE  TRUE  TRUE FALSE  TRUE FALSE  TRUE FALSE  TRUE  TRUE FALSE\n",
      "[13]  TRUE FALSE  TRUE  TRUE  TRUE FALSE FALSE  TRUE FALSE FALSE FALSE FALSE\n",
      "[25]  TRUE  TRUE FALSE  TRUE FALSE FALSE  TRUE FALSE FALSE  TRUE FALSE  TRUE\n",
      "[37]  TRUE  TRUE FALSE  TRUE FALSE  TRUE FALSE  TRUE  TRUE FALSE  TRUE FALSE\n",
      "[49]  TRUE  TRUE  TRUE FALSE FALSE  TRUE FALSE FALSE FALSE FALSE  TRUE  TRUE\n",
      "[61] FALSE  TRUE FALSE FALSE  TRUE FALSE FALSE  TRUE\n",
      "[1] \"Tosu\"\n",
      " [1] FALSE  TRUE  TRUE  TRUE FALSE  TRUE FALSE  TRUE FALSE  TRUE  TRUE FALSE\n",
      "[13]  TRUE FALSE  TRUE  TRUE  TRUE FALSE FALSE  TRUE FALSE FALSE FALSE FALSE\n",
      "[25]  TRUE  TRUE FALSE  TRUE FALSE FALSE  TRUE FALSE FALSE  TRUE FALSE  TRUE\n",
      "[37]  TRUE  TRUE FALSE  TRUE FALSE  TRUE FALSE  TRUE  TRUE FALSE  TRUE FALSE\n",
      "[49]  TRUE  TRUE  TRUE FALSE FALSE  TRUE FALSE FALSE FALSE FALSE  TRUE  TRUE\n",
      "[61] FALSE  TRUE FALSE FALSE  TRUE FALSE FALSE  TRUE\n",
      "[1] \"Nagoya\"\n",
      "[1] \"Tosu\"\n",
      " [1] FALSE  TRUE  TRUE  TRUE FALSE  TRUE FALSE  TRUE FALSE  TRUE  TRUE FALSE\n",
      "[13]  TRUE FALSE  TRUE  TRUE  TRUE FALSE FALSE  TRUE FALSE FALSE FALSE FALSE\n",
      "[25]  TRUE  TRUE FALSE  TRUE FALSE FALSE  TRUE FALSE FALSE  TRUE FALSE  TRUE\n",
      "[37]  TRUE  TRUE FALSE  TRUE FALSE  TRUE FALSE  TRUE  TRUE FALSE  TRUE FALSE\n",
      "[49]  TRUE  TRUE  TRUE FALSE FALSE  TRUE FALSE FALSE FALSE FALSE  TRUE  TRUE\n",
      "[61] FALSE  TRUE FALSE FALSE  TRUE FALSE FALSE  TRUE\n",
      "[1] \"Shimizu\"\n"
     ]
    }
   ],
   "source": [
    "for(h in dat$homes){\n",
    "    if(h == \"Tosu\"){\n",
    "        print(h)\n",
    "        index <- dat$scores_home > dat$scores_away\n",
    "        \n",
    "    }\n",
    "    else{\n",
    "        print(h)\n",
    "    }\n",
    "}\n",
    "   \n",
    "\n",
    "\n",
    "#table(factor(dat$homes))"
   ]
  },
  {
   "cell_type": "code",
   "execution_count": null,
   "metadata": {},
   "outputs": [],
   "source": []
  }
 ],
 "metadata": {
  "kernelspec": {
   "display_name": "R",
   "language": "R",
   "name": "conda-env-r-r"
  },
  "language_info": {
   "codemirror_mode": "r",
   "file_extension": ".r",
   "mimetype": "text/x-r-source",
   "name": "R",
   "pygments_lexer": "r",
   "version": "3.5.1"
  }
 },
 "nbformat": 4,
 "nbformat_minor": 4
}
